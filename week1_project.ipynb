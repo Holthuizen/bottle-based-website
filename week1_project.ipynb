{
  "nbformat": 4,
  "nbformat_minor": 0,
  "metadata": {
    "kernelspec": {
      "display_name": "Python 3",
      "language": "python",
      "name": "python3"
    },
    "language_info": {
      "codemirror_mode": {
        "name": "ipython",
        "version": 3
      },
      "file_extension": ".py",
      "mimetype": "text/x-python",
      "name": "python",
      "nbconvert_exporter": "python",
      "pygments_lexer": "ipython3",
      "version": "3.8.3"
    },
    "colab": {
      "name": "week1_project.ipynb",
      "provenance": [],
      "collapsed_sections": [],
      "include_colab_link": true
    }
  },
  "cells": [
    {
      "cell_type": "markdown",
      "metadata": {
        "id": "view-in-github",
        "colab_type": "text"
      },
      "source": [
        "<a href=\"https://colab.research.google.com/github/Holthuizen/bottle-based-website/blob/master/week1_project.ipynb\" target=\"_parent\"><img src=\"https://colab.research.google.com/assets/colab-badge.svg\" alt=\"Open In Colab\"/></a>"
      ]
    },
    {
      "cell_type": "markdown",
      "metadata": {
        "id": "n12deyB7EbOH"
      },
      "source": [
        "# Project Week 1                                     <a id=\"chapter1\"></a>\n",
        "# Table of Contents\n",
        "\n",
        "* [Project Week 1                                    ](#chapter1)\n",
        "* [Student details](#chapter2)\n",
        "* [Project Description                                         ](#chapter3)\n",
        "* [Data                                    ](#chapter4)\n",
        "* [Predictive Power of Tie Strength                                    ](#chapter5)\n",
        "* [Predictive Power of the Number of Open Triades                                    ](#chapter6)\n",
        "* [Ranking Friends of Friends                                    ](#chapter7)\n",
        "* [Under construction                          ](#chapter8)\n"
      ]
    },
    {
      "cell_type": "markdown",
      "metadata": {
        "id": "VXB5hkCsEbOI"
      },
      "source": [
        "# Student details <a id=\"chapter2\"></a>\n",
        "\n",
        "Please enter the student numbers and names in the cell below."
      ]
    },
    {
      "cell_type": "markdown",
      "metadata": {
        "id": "Dg_i-limEbOJ"
      },
      "source": [
        "[student details]"
      ]
    },
    {
      "cell_type": "markdown",
      "metadata": {
        "id": "OdOVD3LXEbOJ"
      },
      "source": [
        "# Project Description                                          <a id=\"chapter3\"></a>\n",
        "\n",
        "\n",
        "\n",
        "Faculty employees at research universities have two major activities: teaching and research. The research is often done in collaboration with colleagues, which results in a joint publication. In this project we will analyse collaborations within the EWI department of the University of Twente based on joint publications. Such investigations are important in order to enhance the research results and applications, and in order to allocate the limited funding to the right research groups and topics.\n",
        "\n",
        "We represent each researcher as a vertex of a graph. We draw an undirected edge between two vertexes, if the corresponding two researchers have published a joint paper. The resulting graph is called a collaboration graph. We may label each edge as a weak or strong tie depending on the number of joint papers.\n",
        "In this project we want to verify the following hypotheses:\n",
        "\n",
        "\n",
        "In this project we want to verify the following hypotheses:\n",
        "\n",
        "*\tThe collaborations adhere to the strong triadic closure property: if two researchers A and C both actively collaborate with researcher B, then the chance is high that A and C will collaborate in the future.\n",
        "*\tThe large number of open triades, in which two researchers participate, implies that there is a high probability that the two researchers will collaborate in the future.\n",
        "\n",
        "You task is to explore the given data and make a case whether or not the above hypotheses are true. Additionally, you will have to develop an algorithm that ranks friends of friends by decreasing likelihood of becoming a friend in the future."
      ]
    },
    {
      "cell_type": "code",
      "metadata": {
        "id": "_kOeh8JQEbOJ",
        "colab": {
          "base_uri": "https://localhost:8080/"
        },
        "outputId": "262cbc15-dd17-4c50-c2a7-8a42e4d417d1"
      },
      "source": [
        "# The following includes are needed to work with graphs and display solutions.\n",
        "%matplotlib inline\n",
        "# Extra package need to be installed on Google Colab.\n",
        "!apt install libgraphviz-dev\n",
        "!pip install pygraphviz\n",
        "import matplotlib\n",
        "import matplotlib.pyplot as plt\n",
        "import numpy as np\n",
        "import networkx as nx\n",
        "from IPython.display import display\n",
        "from collections import Counter\n",
        "import utils\n",
        "import graphs\n"
      ],
      "execution_count": null,
      "outputs": [
        {
          "output_type": "stream",
          "name": "stdout",
          "text": [
            "Reading package lists... Done\n",
            "Building dependency tree       \n",
            "Reading state information... Done\n",
            "The following additional packages will be installed:\n",
            "  libgail-common libgail18 libgtk2.0-0 libgtk2.0-bin libgtk2.0-common\n",
            "  libgvc6-plugins-gtk libxdot4\n",
            "Suggested packages:\n",
            "  gvfs\n",
            "The following NEW packages will be installed:\n",
            "  libgail-common libgail18 libgraphviz-dev libgtk2.0-0 libgtk2.0-bin\n",
            "  libgtk2.0-common libgvc6-plugins-gtk libxdot4\n",
            "0 upgraded, 8 newly installed, 0 to remove and 37 not upgraded.\n",
            "Need to get 2,120 kB of archives.\n",
            "After this operation, 7,128 kB of additional disk space will be used.\n",
            "Get:1 http://archive.ubuntu.com/ubuntu bionic/main amd64 libgtk2.0-common all 2.24.32-1ubuntu1 [125 kB]\n",
            "Get:2 http://archive.ubuntu.com/ubuntu bionic/main amd64 libgtk2.0-0 amd64 2.24.32-1ubuntu1 [1,769 kB]\n",
            "Get:3 http://archive.ubuntu.com/ubuntu bionic/main amd64 libgail18 amd64 2.24.32-1ubuntu1 [14.2 kB]\n",
            "Get:4 http://archive.ubuntu.com/ubuntu bionic/main amd64 libgail-common amd64 2.24.32-1ubuntu1 [112 kB]\n",
            "Get:5 http://archive.ubuntu.com/ubuntu bionic/universe amd64 libxdot4 amd64 2.40.1-2 [15.7 kB]\n",
            "Get:6 http://archive.ubuntu.com/ubuntu bionic/universe amd64 libgvc6-plugins-gtk amd64 2.40.1-2 [18.2 kB]\n",
            "Get:7 http://archive.ubuntu.com/ubuntu bionic/universe amd64 libgraphviz-dev amd64 2.40.1-2 [57.3 kB]\n",
            "Get:8 http://archive.ubuntu.com/ubuntu bionic/main amd64 libgtk2.0-bin amd64 2.24.32-1ubuntu1 [7,536 B]\n",
            "Fetched 2,120 kB in 2s (1,377 kB/s)\n",
            "Selecting previously unselected package libgtk2.0-common.\n",
            "(Reading database ... 155219 files and directories currently installed.)\n",
            "Preparing to unpack .../0-libgtk2.0-common_2.24.32-1ubuntu1_all.deb ...\n",
            "Unpacking libgtk2.0-common (2.24.32-1ubuntu1) ...\n",
            "Selecting previously unselected package libgtk2.0-0:amd64.\n",
            "Preparing to unpack .../1-libgtk2.0-0_2.24.32-1ubuntu1_amd64.deb ...\n",
            "Unpacking libgtk2.0-0:amd64 (2.24.32-1ubuntu1) ...\n",
            "Selecting previously unselected package libgail18:amd64.\n",
            "Preparing to unpack .../2-libgail18_2.24.32-1ubuntu1_amd64.deb ...\n",
            "Unpacking libgail18:amd64 (2.24.32-1ubuntu1) ...\n",
            "Selecting previously unselected package libgail-common:amd64.\n",
            "Preparing to unpack .../3-libgail-common_2.24.32-1ubuntu1_amd64.deb ...\n",
            "Unpacking libgail-common:amd64 (2.24.32-1ubuntu1) ...\n",
            "Selecting previously unselected package libxdot4.\n",
            "Preparing to unpack .../4-libxdot4_2.40.1-2_amd64.deb ...\n",
            "Unpacking libxdot4 (2.40.1-2) ...\n",
            "Selecting previously unselected package libgvc6-plugins-gtk.\n",
            "Preparing to unpack .../5-libgvc6-plugins-gtk_2.40.1-2_amd64.deb ...\n",
            "Unpacking libgvc6-plugins-gtk (2.40.1-2) ...\n",
            "Selecting previously unselected package libgraphviz-dev.\n",
            "Preparing to unpack .../6-libgraphviz-dev_2.40.1-2_amd64.deb ...\n",
            "Unpacking libgraphviz-dev (2.40.1-2) ...\n",
            "Selecting previously unselected package libgtk2.0-bin.\n",
            "Preparing to unpack .../7-libgtk2.0-bin_2.24.32-1ubuntu1_amd64.deb ...\n",
            "Unpacking libgtk2.0-bin (2.24.32-1ubuntu1) ...\n",
            "Setting up libgtk2.0-common (2.24.32-1ubuntu1) ...\n",
            "Setting up libxdot4 (2.40.1-2) ...\n",
            "Setting up libgtk2.0-0:amd64 (2.24.32-1ubuntu1) ...\n",
            "Setting up libgail18:amd64 (2.24.32-1ubuntu1) ...\n",
            "Setting up libgail-common:amd64 (2.24.32-1ubuntu1) ...\n",
            "Setting up libgvc6-plugins-gtk (2.40.1-2) ...\n",
            "Setting up libgraphviz-dev (2.40.1-2) ...\n",
            "Setting up libgtk2.0-bin (2.24.32-1ubuntu1) ...\n",
            "Processing triggers for man-db (2.8.3-2ubuntu0.1) ...\n",
            "Processing triggers for libc-bin (2.27-3ubuntu1.3) ...\n",
            "/sbin/ldconfig.real: /usr/local/lib/python3.7/dist-packages/ideep4py/lib/libmkldnn.so.0 is not a symbolic link\n",
            "\n",
            "Collecting pygraphviz\n",
            "  Downloading pygraphviz-1.7.zip (118 kB)\n",
            "\u001b[K     |████████████████████████████████| 118 kB 7.5 MB/s \n",
            "\u001b[?25hBuilding wheels for collected packages: pygraphviz\n",
            "  Building wheel for pygraphviz (setup.py) ... \u001b[?25l\u001b[?25hdone\n",
            "  Created wheel for pygraphviz: filename=pygraphviz-1.7-cp37-cp37m-linux_x86_64.whl size=165761 sha256=67d8c7db34f63aeb35629619010268edfe2d90924187a6f8c981857d45c8bcff\n",
            "  Stored in directory: /root/.cache/pip/wheels/8c/bc/0c/ac35392b72556e75107ff610cb31b313e8471918a6d280e34c\n",
            "Successfully built pygraphviz\n",
            "Installing collected packages: pygraphviz\n",
            "Successfully installed pygraphviz-1.7\n"
          ]
        }
      ]
    },
    {
      "cell_type": "markdown",
      "metadata": {
        "id": "8KXZJNqUEbOL"
      },
      "source": [
        "# Data                                     <a id=\"chapter4\"></a>\n",
        "The project is based on the UT collaboration graph. We made snapshots of the UT collaboration graph up to 1995 and up to 2015. The number of publications written by two researchers is noted as the weight of this edge. The following two statements load the collaborations up to these years. Note that they take some time to complete."
      ]
    },
    {
      "cell_type": "code",
      "metadata": {
        "id": "teLa38fpEbOL"
      },
      "source": [
        "G1995 = utils.fromDot(open('bib-graph-1995.dot').read())\n",
        "G2015 = utils.fromDot(open('bib-graph-2015.dot').read())"
      ],
      "execution_count": null,
      "outputs": []
    },
    {
      "cell_type": "markdown",
      "metadata": {
        "id": "2SeO4NW0EbOL"
      },
      "source": [
        "For example, in 1995, the researcher 283261 collaborated with researcher 176766, 520454, 617192, 729772, and 797848 and wrote with them 1, 6, 1, 5, and 2 papers respectively. This can be seen as follows:"
      ]
    },
    {
      "cell_type": "code",
      "metadata": {
        "id": "dnZVdvreEbON",
        "colab": {
          "base_uri": "https://localhost:8080/"
        },
        "outputId": "fda73d9e-72a3-43e5-928b-4fbeb4dcc98b"
      },
      "source": [
        "G1995['283261']"
      ],
      "execution_count": null,
      "outputs": [
        {
          "output_type": "execute_result",
          "data": {
            "text/plain": [
              "AdjacencyView({'617192': {0: {'weight': '1.000000'}}, '729772': {0: {'weight': '5.000000'}}, '520454': {0: {'weight': '6.000000'}}, '797484': {0: {'weight': '2.000000'}}, '176766': {0: {'weight': '1.000000'}}})"
            ]
          },
          "metadata": {},
          "execution_count": 3
        }
      ]
    },
    {
      "cell_type": "code",
      "metadata": {
        "colab": {
          "base_uri": "https://localhost:8080/"
        },
        "id": "fzNJua0Hn-TX",
        "outputId": "d78cdb81-fbcd-468a-8759-7adcb7391a15"
      },
      "source": [
        "G1995"
      ],
      "execution_count": null,
      "outputs": [
        {
          "output_type": "execute_result",
          "data": {
            "text/plain": [
              "<networkx.classes.multigraph.MultiGraph at 0x7f9c78da0ad0>"
            ]
          },
          "metadata": {},
          "execution_count": 49
        }
      ]
    },
    {
      "cell_type": "markdown",
      "metadata": {
        "id": "i-ymu_iLEbOO"
      },
      "source": [
        "# Predictive Power of Tie Strength                                     <a id=\"chapter5\"></a>\n",
        "\n",
        "Show that the probability of a new collaboration to be formed in an open triangle A -- B -- C is increasing with the strength of A -- B and B -- C, using a regression prediction. The tie strength is defined as $\\frac{(x+y)}{2}$, where $x$ is the number of collaborations between A and B, and $y$ is the number of collaborations between B and C. The probability is defined as the chance that a new edge has formed between A and C between the G1995 and G2015 graph. You have to draw a  graph (with axis's lables and units) to illustrate your answer.\n"
      ]
    },
    {
      "cell_type": "code",
      "metadata": {
        "id": "YUQqLo7IEbOO"
      },
      "source": [
        "# BEGIN SOLUTION\n",
        "\n",
        "# -----------------------\n",
        "# Data Structures\n",
        "# -----------------------\n",
        "\n",
        "class Pair:\n",
        "    \"\"\"Pair object represents two vertices a and c.\n",
        "\n",
        "    Attributes:\n",
        "        a (str): represents the first vertice of the pair\n",
        "        c (str): represents the second vertice of the pair\n",
        "        parent_nodes (list of str): Vertices a and c are initially non-adjacent\n",
        "                and the parent_nodes list consists of vertices connected to\n",
        "                both a and c. Each vertice in this list forms an open triad\n",
        "                together with vertices a and c.\n",
        "        triangles (list of Triangle): List of Triangle objects which create a\n",
        "                triad with each node in the parent_nodes list attribute, a\n",
        "                and c.\n",
        "        \n",
        "    \"\"\"\n",
        "    def __init__(self,a,c,parent_nodes):\n",
        "        \"\"\"Assigns the parameters as attributes and calls get_triangles method\n",
        "\n",
        "        Args:\n",
        "            a (str): represents the first vertice of the pair\n",
        "            c (str): represents the second vertice of the pair\n",
        "            parent_nodes (list of str): See the attribute explanation in \n",
        "                    class documentation.\n",
        "        \"\"\"\n",
        "        self.a = a\n",
        "        self.c = c\n",
        "        self.parent_nodes = parent_nodes\n",
        "\n",
        "        self.__get_triangles()\n",
        "\n",
        "    def __get_triangles(self):\n",
        "        \"\"\"Using vertices a, c and the parent_nodes list; this method creates\n",
        "        a list of Triangle objects.\n",
        "        \"\"\"\n",
        "        self.triangles = []\n",
        "        for parent_node in self.parent_nodes:\n",
        "            self.triangles.append(Triangle(self.a,parent_node,self.c))\n",
        "\n",
        "    def assign_tie_strength(self, graph):\n",
        "        \"\"\"Calculate tie_strenth of the triangles of the pair object.\n",
        "\n",
        "        Args:\n",
        "            graph (MultiGraph): graph object is passed to the assign_tie_strength\n",
        "                method of the Triangle objects to calculate tie strength based\n",
        "                on edge weights.\n",
        "\n",
        "        \"\"\"\n",
        "        for triangle in self.triangles:\n",
        "            triangle.assign_tie_strength(graph)\n",
        "\n",
        "    def assign_becomes_closed(self, graph):\n",
        "        \"\"\"Using the graph, check whether the pair becomes connected via an edge.\n",
        "\n",
        "        Result is saved as becomes_closed attribute in the Triangle objects.\n",
        "\n",
        "        \n",
        "        Args:\n",
        "            graph (MultiGraph): graph object is used to check whether the pair\n",
        "                becomes connected.\n",
        "        \"\"\"\n",
        "        becomes_closed = self.a in graph[self.c]\n",
        "\n",
        "        for triangle in self.triangles:\n",
        "            triangle.becomes_closed = becomes_closed\n",
        "\n",
        "    def __str__(self):\n",
        "        return \"PAIR: %s %s\\n      %s\" % (self.a,\n",
        "                                          self.c,\n",
        "                                          \"\\n      \".join([str(tri) for tri in self.triangles]))\n",
        "\n",
        "class Triangle:\n",
        "    \"\"\"Triangle object represents three vertices and has a helper method to\n",
        "    calculate tie strength using these three vertices.\n",
        "    \n",
        "    Attributes:\n",
        "        a (str): represents the first vertice of the triangle\n",
        "        b (str): represents the second vertice of the triangle\n",
        "        c (str): represents the third vertice of the triangle\n",
        "        becomes_closed (bool): whether the open triad formed by a, b and c\n",
        "            vertices becomes a closed triad\n",
        "    \"\"\"\n",
        "    def __init__(self, a, b, c):\n",
        "        \"\"\"Assigns the parameters as attributes\n",
        "\n",
        "        Args:\n",
        "            a (str): represents the first vertice of the triangle\n",
        "            b (str): represents the second vertice of the triangle\n",
        "            c (str): represents the third vertice of the triangle\n",
        "        \"\"\"\n",
        "        self.a = a\n",
        "        self.b = b\n",
        "        self.c = c\n",
        "\n",
        "    def assign_tie_strength(self, graph):\n",
        "        \"\"\"Using the weights from the graph, calculates the tie strength of the\n",
        "        triangle with the formula (x+y)/2, x and y being the edge weights between\n",
        "        the vertices.\n",
        "        \n",
        "        The result is saved as tie_strength attribute.\n",
        "\n",
        "        Args:\n",
        "            graph (MultiGraph): graph object is used to retrieve weights of the\n",
        "                edges a-b and b-c to calculate tie strength\n",
        "\n",
        "        \"\"\"\n",
        "        self.tie_strength = sum([float(graph[self.b][node][0]['weight'])\n",
        "                                for node in [self.a,self.c]])/2\n",
        "\n",
        "    def __str__(self):\n",
        "        return \"%s %f\" % (self.b, self.tie_strength)\n",
        "\n",
        "# -----------------------\n",
        "# Helper Methods\n",
        "# -----------------------\n",
        "\n",
        "\n",
        "def get_all_unconnected_pairs(graph):\n",
        "    \"\"\"Creates a list of Pair objects. These Pair objects are filtered such that\n",
        "    only the ones which form an open triad are created and added to the list.\n",
        "\n",
        "    Args:\n",
        "        graph (MultiGraph): Graph object from which the open triads are searched\n",
        "\n",
        "    Returns:\n",
        "        List of Pair objects as explained in the method documentation above.\n",
        "    \"\"\"\n",
        "    pairs = []\n",
        "    nodes = list(graph.nodes())\n",
        "    for i, node1 in enumerate(nodes):\n",
        "        for node2 in nodes[i+1:]:\n",
        "\n",
        "            # nodes are connected\n",
        "            if node2 in graph[node1]:\n",
        "                continue\n",
        "\n",
        "            # nodes don't have a common neighbor\n",
        "            common_neighbors = list(set(graph[node1]).intersection(graph[node2]))\n",
        "            if len(common_neighbors) == 0:\n",
        "                continue\n",
        "            \n",
        "            # Create Pair object and add it to the list\n",
        "            pairs.append(Pair(node1, node2, common_neighbors))\n",
        "\n",
        "    return pairs\n",
        "    \n",
        "def create_pairs(base_graph, updated_graph):\n",
        "    \"\"\"Driver method for the algorithm. Calls all the methods written to solve\n",
        "    the problem.\n",
        "\n",
        "    It creates the pairs using the base_graph, then calls methods to assign \n",
        "    tie_strength and becomes_closed attributes to the objects in the pairs\n",
        "    list.\n",
        "\n",
        "    Args:\n",
        "        base_graph (MultiGraph): graph from which the non-adjacent pairs are\n",
        "            detected. Tie strengths are also calculated based on this graph.\n",
        "        updated_graph (MultiGraph): graph with which the becomes_closed\n",
        "            attributes, which indicate whether the pairs became connected,\n",
        "            are assigned.\n",
        "\n",
        "    Returns:\n",
        "        list of Pair objects\n",
        "    \"\"\"\n",
        "    pairs = get_all_unconnected_pairs(base_graph)\n",
        "    for pair in pairs:\n",
        "        pair.assign_tie_strength(base_graph)\n",
        "        pair.assign_becomes_closed(updated_graph)\n",
        "    return pairs\n",
        "\n",
        "def plot_with_regression(x, y,\n",
        "                         title,\n",
        "                         xlabel,\n",
        "                         ylabel,\n",
        "                         bar_label=None,\n",
        "                         line_label=None,\n",
        "                         tick_label = None,\n",
        "                         legend=False,\n",
        "                         figsize=None):\n",
        "    \"\"\"Method for plotting bar charts with regression\n",
        "\n",
        "    \"\"\"\n",
        "    p = np.polyfit(x, y, deg = 1)\n",
        "    line = lambda x: p[0] * x + p[1]\n",
        "    boundaries = [min(x), max(x)]\n",
        "\n",
        "    plt.figure(figsize=figsize)\n",
        "    plt.title(title)\n",
        "    plt.xlabel(xlabel)\n",
        "    plt.ylabel(ylabel)\n",
        "\n",
        "    plt.bar(x,y, label = bar_label, tick_label = tick_label)\n",
        "    plt.plot(boundaries,\n",
        "            [line(i) for i in boundaries],\n",
        "            label=line_label,\n",
        "            color='red')\n",
        "\n",
        "    if legend:\n",
        "        plt.legend()\n",
        "    plt.show()\n",
        "\n",
        "    return line\n",
        "\n",
        "pairs = create_pairs(G1995, G2015)\n",
        "# END SOLUTION\n"
      ],
      "execution_count": null,
      "outputs": []
    },
    {
      "cell_type": "code",
      "metadata": {
        "id": "TvIPjNu9g9M9"
      },
      "source": [
        "n_intervals = 10\n",
        "interval = [1, 73.5]\n",
        "\n",
        "divide_by = (interval[1]-interval[0])/n_intervals\n",
        "get_group_index = lambda value: int(value // divide_by)\n",
        "\n",
        "groups = [[] for i in range(n_intervals)]\n",
        "\n",
        "for pair in pairs:\n",
        "    for triangle in pair.triangles:\n",
        "        index = get_group_index(triangle.tie_strength)\n",
        "        index = index if index != n_intervals else n_intervals - 1 # horrible\n",
        "        groups[index].append(triangle)\n",
        "\n",
        "percentages = []\n",
        "for group in groups:\n",
        "    connected = 0\n",
        "    total = len(group)\n",
        "    for triangle in group:\n",
        "        if triangle.becomes_closed:\n",
        "            connected += 1\n",
        "    percentages.append(connected / total * 100)\n",
        "\n",
        "f = lambda x: interval[0] + divide_by * x\n",
        "interval_names = [\"%.2f-%.2f\"%(f(i), f(i+1))for i in range(n_intervals)]"
      ],
      "execution_count": null,
      "outputs": []
    },
    {
      "cell_type": "code",
      "metadata": {
        "colab": {
          "base_uri": "https://localhost:8080/",
          "height": 350
        },
        "id": "sUsz3dM0cK6O",
        "outputId": "a6f388eb-a806-454f-c8f1-a6ad4b4f4c5d"
      },
      "source": [
        "tie_strength_to_connection_probability = plot_with_regression(range(n_intervals),\n",
        "                     percentages,\n",
        "                     title = \"Relationship Between Tie Strength and Percentage of Edge Formation\",\n",
        "                     xlabel = \"Tie Strength\",\n",
        "                     ylabel = \"Percentage of Edge Formation\",\n",
        "                     line_label = \"Regression\",\n",
        "                     tick_label = interval_names,\n",
        "                     legend = True,\n",
        "                     figsize=(20,5))"
      ],
      "execution_count": null,
      "outputs": [
        {
          "output_type": "display_data",
          "data": {
            "image/png": "[encoded data removed]",
            "text/plain": [
              "<Figure size 1440x360 with 1 Axes>"
            ]
          },
          "metadata": {
            "needs_background": "light"
          }
        }
      ]
    },
    {
      "cell_type": "markdown",
      "metadata": {
        "id": "nPs9GmjeGL8J"
      },
      "source": [
        "*Explanation: (Explanation for the proposed agorithm must be added here. The code above also needs comments in details for clarity and comprehension) "
      ]
    },
    {
      "cell_type": "markdown",
      "metadata": {
        "id": "NwXYItGZEbOP"
      },
      "source": [
        "# Predictive Power of the Number of Open Triades                                     <a id=\"chapter6\"></a>\n",
        "\n",
        "Find a regression model to evaluate whether the number of open triades influences the probability that a new collaboration is formed between 1995 and 2015. For example, node A and C do not have an edge, but could be connected by B (one open triad), A and D (two open triades) or even A, D and E (three open triades) and so forth. You have to draw a graph (with axis's lables and units) to illustrate your answer."
      ]
    },
    {
      "cell_type": "code",
      "metadata": {
        "id": "URWXGW7uEbOP",
        "colab": {
          "base_uri": "https://localhost:8080/",
          "height": 364
        },
        "outputId": "8a868409-6ceb-4ee4-c5cf-184a772b837d"
      },
      "source": [
        "# BEGIN SOLUTION\n",
        "n_open_triads_total     = {}\n",
        "n_open_triads_connected = {}\n",
        "for pair in pairs:\n",
        "    n_open_triads = len(pair.triangles)\n",
        "    \n",
        "    if n_open_triads not in n_open_triads_total:\n",
        "        n_open_triads_total[n_open_triads] = 0\n",
        "        n_open_triads_connected[n_open_triads] = 0\n",
        "\n",
        "    n_open_triads_total[n_open_triads] += 1\n",
        "    \n",
        "    if pair.triangles[0].becomes_connected:\n",
        "        n_open_triads_connected[n_open_triads] += 1   \n",
        "\n",
        "keys = list(n_open_triads_total.keys())\n",
        "ratios = [n_open_triads_connected[key]/n_open_triads_total[key]*100 for key in keys]\n",
        "\n",
        "n_open_triads_to_connection_probability = plot_with_regression(keys, ratios,\n",
        "                     title = \"Percentage of Pairs that Formed a Connection\\n(Grouped by the Number of Open Triads)\",\n",
        "                     xlabel = \"Number of Open Triads\",\n",
        "                     ylabel = \"Percentage of Edge Formation\",\n",
        "                     bar_label = \"Percentage\",\n",
        "                     line_label = \"Regression\",\n",
        "                     legend=True,\n",
        "                     figsize=(10,5))\n",
        "# END SOLUTION"
      ],
      "execution_count": null,
      "outputs": [
        {
          "output_type": "display_data",
          "data": {
            "image/png": "[encoded data removed]",
            "text/plain": [
              "<Figure size 720x360 with 1 Axes>"
            ]
          },
          "metadata": {
            "needs_background": "light"
          }
        }
      ]
    },
    {
      "cell_type": "markdown",
      "metadata": {
        "id": "qCAlTlVrXt70"
      },
      "source": [
        "*Explanation: (Explanation for the proposed agorithm must be added here. The code above also needs comments in details for clarity and comprehension) "
      ]
    },
    {
      "cell_type": "markdown",
      "metadata": {
        "id": "Wt9_04k1EbOP"
      },
      "source": [
        "# Ranking Friends of Friends                                     <a id=\"chapter7\"></a>\n",
        "\n",
        "In this exercise you should apply your knowlege gained from the two previous exercises, but not limted to, to answer a common problem in todays social media platforms: given a person, an employee in our case, generate a ranked list of his friends of friends that are likely to become his friends. At the end of the following cell, we provide a code snippet that calculates the precision of your algorithm in predicting future ties in the top-10. Note that other knowledge you gained in the lectures also can be used to solve this problem."
      ]
    },
    {
      "cell_type": "code",
      "metadata": {
        "id": "Wniqsxc1EbOP"
      },
      "source": [
        "# employees to test\n",
        "nodes = ['943855', '587677', '905252', '839906', '554748', '220387', '456096', '136755', '652488', '617192', '154879', '860536', '127930', '266261', '925761', '334823', '879631', '922044', '485657', '347203']\n",
        "# dictionary mapping an employee to a list of employees with whom he/she collaborated in 2015 and which belonged\n",
        "# to his friends of friends in 1995. \n",
        "result = {'879631': ['587677', '265264', '925761', '860536', '725186', '721127', '142327', '23872', '943855'], '127930': ['26850', '935705', '136755', '659445', '805057', '293364', '681672', '565759', '868762', '596394'], '154879': ['691913', '817338', '659445', '169325', '542646', '644335', '293364', '165240', '485657', '905252', '408618'], '587677': ['879631', '725186', '785747', '70007', '561122', '136755', '721127', '142327', '72828', '334823', '839906', '433369', '943855'], '266261': ['265264', '208388', '70007', '495819', '725186', '839906', '136755', '721127', '142327', '408600'], '860536': ['811970', '879631', '456096', '839906', '396817', '136755', '653075', '72828', '596215', '346572', '922044'], '839906': ['587677', '308351', '860536', '378229', '240448', '379649', '334823', '201753', '565759', '943855', '174262', '922044', '266261'], '347203': ['265464', '578175', '136755', '596215', '220387', '906277', '897180', '652488'], '617192': ['793831', '254964', '522310', '932010', '528813', '922964', '485657', '58492', '694245', '166980', '905252'], '136755': ['811970', '127930', '587677', '266261', '815411', '422460', '860536', '347203', '943855', '691913', '174262', '922044'], '925761': ['879631', '725186', '456096', '70007', '561122', '136803', '596215', '334823', '905252', '943855'], '554748': ['23872', '916957', '659445', '169325', '644335', '293364', '220387', '433369', '943855', '174262', '922044', '652488'], '334823': ['587677', '725186', '785747', '839906', '721127', '142327', '72828', '925761', '943855', '867536'], '220387': ['450166', '571150', '565465', '901612', '554748', '18282', '883925', '347203', '9418', '943855', '265464', '652488'], '485657': ['811970', '154879', '617192', '702341', '41963', '661899', '293364', '668817', '218489'], '905252': ['23872', '742360', '561250', '523695', '222137', '617192', '564846', '925761', '661899', '571150', '154879', '691913', '392536'], '943855': ['265264', '60541', '220387', '14499', '783415', '679997', '811970', '785747', '961828', '587677', '925761', '905502', '561122', '136755', '41963', '554748', '879631', '642974', '725186', '676753', '839906', '213482', '396817', '721127', '576951', '334823', '978812'], '456096': ['206983', '925761', '706765', '860536', '565708', '296067', '902949', '549825', '201753', '961828', '240448', '922044'], '922044': ['456096', '308351', '860536', '839906', '136755', '554748', '433369', '999230', '240448'], '652488': ['602959', '60541', '846007', '143158', '347203', '422460', '14499', '554748', '220387', '265464', '9418']}\n",
        "\n",
        "def fof(G,n):\n",
        "    '''\n",
        "    returns the friends of friends of Node n in Graph G\n",
        "    '''\n",
        "    res = set()\n",
        "    for n1 in G[n]:\n",
        "        res = res | set(G[n1])\n",
        "    res = res - set(G[n])\n",
        "    return res\n",
        "\n",
        "# BEGIN SOLUTION\n",
        "# END SOLUTION\n",
        "\n",
        "def score(n, f):\n",
        "    '''\n",
        "    calculates a score by which potential friends should be sorted\n",
        "    '''\n",
        "    s = 0\n",
        "    # BEGIN SOLUTION\n",
        "    # END SOLUTION\n",
        "    return s\n",
        "\n",
        "# Check \n",
        "topn = 10\n",
        "\n",
        "for n in nodes:\n",
        "    # get all friends of friends and their score\n",
        "    fofG1995 = fof(G1995, n)\n",
        "    l = [(f,score(n,f)) for f in fofG1995 ]\n",
        "    # sort descending by score\n",
        "    l.sort(key=lambda x: -x[1])\n",
        "    # count number of correct results\n",
        "    found = 0\n",
        "    for x,z in l[:topn]:\n",
        "        if x in result[n]:\n",
        "            found += 1            \n",
        "    print(n, found / float(topn))"
      ],
      "execution_count": null,
      "outputs": []
    },
    {
      "cell_type": "markdown",
      "metadata": {
        "id": "l2Anu_XSEbOQ"
      },
      "source": [
        "*Explanation: (Explanation for the proposed agorithm must be added here. The code above also needs comments in details for clarity and comprehension)"
      ]
    }
  ]
}